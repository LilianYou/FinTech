{
 "cells": [
  {
   "cell_type": "markdown",
   "metadata": {},
   "source": [
    "# Assignment # 2"
   ]
  },
  {
   "cell_type": "markdown",
   "metadata": {},
   "source": [
    "## Question 1. Track an Altcoin [15 points]"
   ]
  },
  {
   "cell_type": "markdown",
   "metadata": {},
   "source": [
    "The purpose of assignment 2 is to compare one Altcoin with Bitcoin. Please go to https://www.coingecko.com/en to find an Altcoin that you like most. Download the historical price of this coin until March 31, 2020. Please download the longest sample period possible. But you do not need to collect the data before January 1, 2014. Save the data as an excel or csv file. Your TA Wanyi provides a video tutorial on how to download data from this website. I break down the questions into 5 small parts so that you can easily tackle them one by one."
   ]
  },
  {
   "cell_type": "markdown",
   "metadata": {},
   "source": [
    "### Load data"
   ]
  },
  {
   "cell_type": "code",
   "execution_count": 2,
   "metadata": {},
   "outputs": [],
   "source": [
    "import pandas as pd\n",
    "import matplotlib.pyplot as plt"
   ]
  },
  {
   "cell_type": "code",
   "execution_count": 3,
   "metadata": {},
   "outputs": [
    {
     "data": {
      "text/html": [
       "<div>\n",
       "<style scoped>\n",
       "    .dataframe tbody tr th:only-of-type {\n",
       "        vertical-align: middle;\n",
       "    }\n",
       "\n",
       "    .dataframe tbody tr th {\n",
       "        vertical-align: top;\n",
       "    }\n",
       "\n",
       "    .dataframe thead th {\n",
       "        text-align: right;\n",
       "    }\n",
       "</style>\n",
       "<table border=\"1\" class=\"dataframe\">\n",
       "  <thead>\n",
       "    <tr style=\"text-align: right;\">\n",
       "      <th></th>\n",
       "      <th>snapped_at</th>\n",
       "      <th>price</th>\n",
       "      <th>market_cap</th>\n",
       "      <th>total_volume</th>\n",
       "    </tr>\n",
       "  </thead>\n",
       "  <tbody>\n",
       "    <tr>\n",
       "      <td>0</td>\n",
       "      <td>2013-04-28 00:00:00 UTC</td>\n",
       "      <td>4.29983</td>\n",
       "      <td>73773387.0</td>\n",
       "      <td>0.0</td>\n",
       "    </tr>\n",
       "    <tr>\n",
       "      <td>1</td>\n",
       "      <td>2013-04-29 00:00:00 UTC</td>\n",
       "      <td>4.35940</td>\n",
       "      <td>74936909.0</td>\n",
       "      <td>0.0</td>\n",
       "    </tr>\n",
       "    <tr>\n",
       "      <td>2</td>\n",
       "      <td>2013-04-30 00:00:00 UTC</td>\n",
       "      <td>4.18295</td>\n",
       "      <td>72037636.0</td>\n",
       "      <td>0.0</td>\n",
       "    </tr>\n",
       "    <tr>\n",
       "      <td>3</td>\n",
       "      <td>2013-05-01 00:00:00 UTC</td>\n",
       "      <td>3.64914</td>\n",
       "      <td>62957992.0</td>\n",
       "      <td>0.0</td>\n",
       "    </tr>\n",
       "    <tr>\n",
       "      <td>4</td>\n",
       "      <td>2013-05-02 00:00:00 UTC</td>\n",
       "      <td>3.38879</td>\n",
       "      <td>58565340.0</td>\n",
       "      <td>0.0</td>\n",
       "    </tr>\n",
       "  </tbody>\n",
       "</table>\n",
       "</div>"
      ],
      "text/plain": [
       "                snapped_at    price  market_cap  total_volume\n",
       "0  2013-04-28 00:00:00 UTC  4.29983  73773387.0           0.0\n",
       "1  2013-04-29 00:00:00 UTC  4.35940  74936909.0           0.0\n",
       "2  2013-04-30 00:00:00 UTC  4.18295  72037636.0           0.0\n",
       "3  2013-05-01 00:00:00 UTC  3.64914  62957992.0           0.0\n",
       "4  2013-05-02 00:00:00 UTC  3.38879  58565340.0           0.0"
      ]
     },
     "execution_count": 3,
     "metadata": {},
     "output_type": "execute_result"
    }
   ],
   "source": [
    "# Downloading the csv file from GitHub account\n",
    "\n",
    "url = \"https://raw.githubusercontent.com/LilianYou/FinTech/master/ltc-usd-max.csv\" # Make sure the url is the raw version of the file on GitHub\n",
    "\n",
    "lite_price = pd.read_csv(url)\n",
    "\n",
    "lite_price.head()"
   ]
  },
  {
   "cell_type": "code",
   "execution_count": 4,
   "metadata": {},
   "outputs": [
    {
     "data": {
      "text/html": [
       "<div>\n",
       "<style scoped>\n",
       "    .dataframe tbody tr th:only-of-type {\n",
       "        vertical-align: middle;\n",
       "    }\n",
       "\n",
       "    .dataframe tbody tr th {\n",
       "        vertical-align: top;\n",
       "    }\n",
       "\n",
       "    .dataframe thead th {\n",
       "        text-align: right;\n",
       "    }\n",
       "</style>\n",
       "<table border=\"1\" class=\"dataframe\">\n",
       "  <thead>\n",
       "    <tr style=\"text-align: right;\">\n",
       "      <th></th>\n",
       "      <th>snapped_at</th>\n",
       "      <th>price</th>\n",
       "      <th>market_cap</th>\n",
       "      <th>total_volume</th>\n",
       "    </tr>\n",
       "  </thead>\n",
       "  <tbody>\n",
       "    <tr>\n",
       "      <td>247</td>\n",
       "      <td>2014-01-01 00:00:00 UTC</td>\n",
       "      <td>24.591300</td>\n",
       "      <td>6.017772e+08</td>\n",
       "      <td>8.159590e+06</td>\n",
       "    </tr>\n",
       "    <tr>\n",
       "      <td>248</td>\n",
       "      <td>2014-01-02 00:00:00 UTC</td>\n",
       "      <td>25.523400</td>\n",
       "      <td>6.253065e+08</td>\n",
       "      <td>1.779050e+07</td>\n",
       "    </tr>\n",
       "    <tr>\n",
       "      <td>249</td>\n",
       "      <td>2014-01-03 00:00:00 UTC</td>\n",
       "      <td>24.144000</td>\n",
       "      <td>5.922219e+08</td>\n",
       "      <td>2.540190e+07</td>\n",
       "    </tr>\n",
       "    <tr>\n",
       "      <td>250</td>\n",
       "      <td>2014-01-04 00:00:00 UTC</td>\n",
       "      <td>25.229800</td>\n",
       "      <td>6.196475e+08</td>\n",
       "      <td>1.229160e+07</td>\n",
       "    </tr>\n",
       "    <tr>\n",
       "      <td>251</td>\n",
       "      <td>2014-01-05 00:00:00 UTC</td>\n",
       "      <td>26.483100</td>\n",
       "      <td>6.512523e+08</td>\n",
       "      <td>2.339030e+07</td>\n",
       "    </tr>\n",
       "    <tr>\n",
       "      <td>...</td>\n",
       "      <td>...</td>\n",
       "      <td>...</td>\n",
       "      <td>...</td>\n",
       "      <td>...</td>\n",
       "    </tr>\n",
       "    <tr>\n",
       "      <td>2523</td>\n",
       "      <td>2020-03-27 00:00:00 UTC</td>\n",
       "      <td>40.377280</td>\n",
       "      <td>2.599127e+09</td>\n",
       "      <td>2.649874e+09</td>\n",
       "    </tr>\n",
       "    <tr>\n",
       "      <td>2524</td>\n",
       "      <td>2020-03-28 00:00:00 UTC</td>\n",
       "      <td>38.098484</td>\n",
       "      <td>2.452714e+09</td>\n",
       "      <td>2.126938e+09</td>\n",
       "    </tr>\n",
       "    <tr>\n",
       "      <td>2525</td>\n",
       "      <td>2020-03-29 00:00:00 UTC</td>\n",
       "      <td>38.911490</td>\n",
       "      <td>2.505340e+09</td>\n",
       "      <td>2.973415e+09</td>\n",
       "    </tr>\n",
       "    <tr>\n",
       "      <td>2526</td>\n",
       "      <td>2020-03-30 00:00:00 UTC</td>\n",
       "      <td>37.348943</td>\n",
       "      <td>2.405019e+09</td>\n",
       "      <td>2.140131e+09</td>\n",
       "    </tr>\n",
       "    <tr>\n",
       "      <td>2527</td>\n",
       "      <td>2020-03-31 00:00:00 UTC</td>\n",
       "      <td>38.996682</td>\n",
       "      <td>2.512152e+09</td>\n",
       "      <td>2.809026e+09</td>\n",
       "    </tr>\n",
       "  </tbody>\n",
       "</table>\n",
       "<p>2281 rows × 4 columns</p>\n",
       "</div>"
      ],
      "text/plain": [
       "                   snapped_at      price    market_cap  total_volume\n",
       "247   2014-01-01 00:00:00 UTC  24.591300  6.017772e+08  8.159590e+06\n",
       "248   2014-01-02 00:00:00 UTC  25.523400  6.253065e+08  1.779050e+07\n",
       "249   2014-01-03 00:00:00 UTC  24.144000  5.922219e+08  2.540190e+07\n",
       "250   2014-01-04 00:00:00 UTC  25.229800  6.196475e+08  1.229160e+07\n",
       "251   2014-01-05 00:00:00 UTC  26.483100  6.512523e+08  2.339030e+07\n",
       "...                       ...        ...           ...           ...\n",
       "2523  2020-03-27 00:00:00 UTC  40.377280  2.599127e+09  2.649874e+09\n",
       "2524  2020-03-28 00:00:00 UTC  38.098484  2.452714e+09  2.126938e+09\n",
       "2525  2020-03-29 00:00:00 UTC  38.911490  2.505340e+09  2.973415e+09\n",
       "2526  2020-03-30 00:00:00 UTC  37.348943  2.405019e+09  2.140131e+09\n",
       "2527  2020-03-31 00:00:00 UTC  38.996682  2.512152e+09  2.809026e+09\n",
       "\n",
       "[2281 rows x 4 columns]"
      ]
     },
     "execution_count": 4,
     "metadata": {},
     "output_type": "execute_result"
    }
   ],
   "source": [
    "# get rid of data before 2014.1.1 and after 2020.3.31\n",
    "indexdate_early = lite_price['snapped_at'].str.startswith('2013')\n",
    "indexdelete_early = indexdate_early[indexdate_early == True].index\n",
    "\n",
    "indexdate_late = lite_price['snapped_at'].str.startswith('2020-04')\n",
    "indexdelete_late = indexdate_late[indexdate_late == True].index\n",
    "\n",
    "indexdelete = indexdelete_early.union(indexdelete_late)\n",
    "lite_price.drop(indexdelete, inplace = True)\n",
    "\n",
    "lite_price"
   ]
  },
  {
   "cell_type": "code",
   "execution_count": 5,
   "metadata": {},
   "outputs": [
    {
     "data": {
      "text/html": [
       "<div>\n",
       "<style scoped>\n",
       "    .dataframe tbody tr th:only-of-type {\n",
       "        vertical-align: middle;\n",
       "    }\n",
       "\n",
       "    .dataframe tbody tr th {\n",
       "        vertical-align: top;\n",
       "    }\n",
       "\n",
       "    .dataframe thead th {\n",
       "        text-align: right;\n",
       "    }\n",
       "</style>\n",
       "<table border=\"1\" class=\"dataframe\">\n",
       "  <thead>\n",
       "    <tr style=\"text-align: right;\">\n",
       "      <th></th>\n",
       "      <th>snapped_at</th>\n",
       "      <th>price</th>\n",
       "      <th>market_cap</th>\n",
       "      <th>total_volume</th>\n",
       "    </tr>\n",
       "  </thead>\n",
       "  <tbody>\n",
       "    <tr>\n",
       "      <td>2523</td>\n",
       "      <td>2020-03-27 00:00:00 UTC</td>\n",
       "      <td>40.377280</td>\n",
       "      <td>2.599127e+09</td>\n",
       "      <td>2.649874e+09</td>\n",
       "    </tr>\n",
       "    <tr>\n",
       "      <td>2524</td>\n",
       "      <td>2020-03-28 00:00:00 UTC</td>\n",
       "      <td>38.098484</td>\n",
       "      <td>2.452714e+09</td>\n",
       "      <td>2.126938e+09</td>\n",
       "    </tr>\n",
       "    <tr>\n",
       "      <td>2525</td>\n",
       "      <td>2020-03-29 00:00:00 UTC</td>\n",
       "      <td>38.911490</td>\n",
       "      <td>2.505340e+09</td>\n",
       "      <td>2.973415e+09</td>\n",
       "    </tr>\n",
       "    <tr>\n",
       "      <td>2526</td>\n",
       "      <td>2020-03-30 00:00:00 UTC</td>\n",
       "      <td>37.348943</td>\n",
       "      <td>2.405019e+09</td>\n",
       "      <td>2.140131e+09</td>\n",
       "    </tr>\n",
       "    <tr>\n",
       "      <td>2527</td>\n",
       "      <td>2020-03-31 00:00:00 UTC</td>\n",
       "      <td>38.996682</td>\n",
       "      <td>2.512152e+09</td>\n",
       "      <td>2.809026e+09</td>\n",
       "    </tr>\n",
       "  </tbody>\n",
       "</table>\n",
       "</div>"
      ],
      "text/plain": [
       "                   snapped_at      price    market_cap  total_volume\n",
       "2523  2020-03-27 00:00:00 UTC  40.377280  2.599127e+09  2.649874e+09\n",
       "2524  2020-03-28 00:00:00 UTC  38.098484  2.452714e+09  2.126938e+09\n",
       "2525  2020-03-29 00:00:00 UTC  38.911490  2.505340e+09  2.973415e+09\n",
       "2526  2020-03-30 00:00:00 UTC  37.348943  2.405019e+09  2.140131e+09\n",
       "2527  2020-03-31 00:00:00 UTC  38.996682  2.512152e+09  2.809026e+09"
      ]
     },
     "execution_count": 5,
     "metadata": {},
     "output_type": "execute_result"
    }
   ],
   "source": [
    "lite_price.tail()"
   ]
  },
  {
   "cell_type": "markdown",
   "metadata": {},
   "source": [
    "### a) give a brief description of the Altcoin you choose, e.g., the release date, motivation of this coin, issue price and its current price as of March 31, 2020. Why do you choose this digital coin? (This question is open ended and there is no correct answer) [2 points]"
   ]
  },
  {
   "cell_type": "markdown",
   "metadata": {},
   "source": [
    "#### haven't answered yet"
   ]
  },
  {
   "cell_type": "markdown",
   "metadata": {},
   "source": [
    "### b) use the data of the altcoin you download, calculate its daily returns over the sample period you have. Plot its returns over time. Do you find the return of this coin is very volatile? (Note that you do not need to submit the daily return data, only report the figure) [2 points]"
   ]
  },
  {
   "cell_type": "code",
   "execution_count": 6,
   "metadata": {},
   "outputs": [
    {
     "data": {
      "text/html": [
       "<div>\n",
       "<style scoped>\n",
       "    .dataframe tbody tr th:only-of-type {\n",
       "        vertical-align: middle;\n",
       "    }\n",
       "\n",
       "    .dataframe tbody tr th {\n",
       "        vertical-align: top;\n",
       "    }\n",
       "\n",
       "    .dataframe thead th {\n",
       "        text-align: right;\n",
       "    }\n",
       "</style>\n",
       "<table border=\"1\" class=\"dataframe\">\n",
       "  <thead>\n",
       "    <tr style=\"text-align: right;\">\n",
       "      <th></th>\n",
       "      <th>price</th>\n",
       "      <th>market_cap</th>\n",
       "      <th>total_volume</th>\n",
       "    </tr>\n",
       "    <tr>\n",
       "      <th>snapped_at</th>\n",
       "      <th></th>\n",
       "      <th></th>\n",
       "      <th></th>\n",
       "    </tr>\n",
       "  </thead>\n",
       "  <tbody>\n",
       "    <tr>\n",
       "      <td>2014-01-01 00:00:00+00:00</td>\n",
       "      <td>24.5913</td>\n",
       "      <td>601777194.0</td>\n",
       "      <td>8159590.0</td>\n",
       "    </tr>\n",
       "    <tr>\n",
       "      <td>2014-01-02 00:00:00+00:00</td>\n",
       "      <td>25.5234</td>\n",
       "      <td>625306506.0</td>\n",
       "      <td>17790500.0</td>\n",
       "    </tr>\n",
       "    <tr>\n",
       "      <td>2014-01-03 00:00:00+00:00</td>\n",
       "      <td>24.1440</td>\n",
       "      <td>592221947.0</td>\n",
       "      <td>25401900.0</td>\n",
       "    </tr>\n",
       "    <tr>\n",
       "      <td>2014-01-04 00:00:00+00:00</td>\n",
       "      <td>25.2298</td>\n",
       "      <td>619647471.0</td>\n",
       "      <td>12291600.0</td>\n",
       "    </tr>\n",
       "    <tr>\n",
       "      <td>2014-01-05 00:00:00+00:00</td>\n",
       "      <td>26.4831</td>\n",
       "      <td>651252321.0</td>\n",
       "      <td>23390300.0</td>\n",
       "    </tr>\n",
       "  </tbody>\n",
       "</table>\n",
       "</div>"
      ],
      "text/plain": [
       "                             price   market_cap  total_volume\n",
       "snapped_at                                                   \n",
       "2014-01-01 00:00:00+00:00  24.5913  601777194.0     8159590.0\n",
       "2014-01-02 00:00:00+00:00  25.5234  625306506.0    17790500.0\n",
       "2014-01-03 00:00:00+00:00  24.1440  592221947.0    25401900.0\n",
       "2014-01-04 00:00:00+00:00  25.2298  619647471.0    12291600.0\n",
       "2014-01-05 00:00:00+00:00  26.4831  651252321.0    23390300.0"
      ]
     },
     "execution_count": 6,
     "metadata": {},
     "output_type": "execute_result"
    }
   ],
   "source": [
    "lite_price['snapped_at'] = pd.to_datetime(lite_price['snapped_at'])\n",
    "lite_price = lite_price.set_index('snapped_at')\n",
    "lite_price.head()"
   ]
  },
  {
   "cell_type": "code",
   "execution_count": 7,
   "metadata": {},
   "outputs": [],
   "source": [
    "lite_daily_return = lite_price['price'].pct_change()*100"
   ]
  },
  {
   "cell_type": "code",
   "execution_count": 8,
   "metadata": {},
   "outputs": [
    {
     "data": {
      "text/plain": [
       "<matplotlib.axes._subplots.AxesSubplot at 0x1168acb90>"
      ]
     },
     "execution_count": 8,
     "metadata": {},
     "output_type": "execute_result"
    },
    {
     "data": {
      "image/png": "[encoded data removed]",
      "text/plain": [
       "<Figure size 432x288 with 1 Axes>"
      ]
     },
     "metadata": {
      "needs_background": "light"
     },
     "output_type": "display_data"
    }
   ],
   "source": [
    "lite_daily_return.plot()"
   ]
  },
  {
   "cell_type": "markdown",
   "metadata": {},
   "source": [
    "#### From the figure, we could tell that the return of the litecoin is very volatile in the past 6 years."
   ]
  },
  {
   "cell_type": "markdown",
   "metadata": {},
   "source": [
    "### c) report the highest and lowest returns of this coin during the sample period. Do you find any convincing explanations for these big positive/negative returns days? (Note that you can search around news and information about these big gain/loss days. It is OK if you don’t find consistent explanations. Just briefly summarize what you find) [3 points]"
   ]
  },
  {
   "cell_type": "code",
   "execution_count": 93,
   "metadata": {},
   "outputs": [
    {
     "data": {
      "text/plain": [
       "67.26023948025062"
      ]
     },
     "execution_count": 93,
     "metadata": {},
     "output_type": "execute_result"
    }
   ],
   "source": [
    "lite_daily_return.max() # 67.26023948025062"
   ]
  },
  {
   "cell_type": "code",
   "execution_count": 94,
   "metadata": {},
   "outputs": [
    {
     "data": {
      "text/plain": [
       "Timestamp('2017-03-30 00:00:00+0000', tz='UTC')"
      ]
     },
     "execution_count": 94,
     "metadata": {},
     "output_type": "execute_result"
    }
   ],
   "source": [
    "lite_daily_return.idxmax(axis = 1) # 2017-03-30\n",
    "#lite_daily_return[ lite_daily_return == price ].index # checking code"
   ]
  },
  {
   "cell_type": "markdown",
   "metadata": {},
   "source": [
    "#### During the sample period, the highest litecoin daily return is around $67.26 on March 30th, 2017. Possible explantion: SegWit happened."
   ]
  },
  {
   "cell_type": "code",
   "execution_count": 95,
   "metadata": {},
   "outputs": [
    {
     "data": {
      "text/plain": [
       "-42.14403214048795"
      ]
     },
     "execution_count": 95,
     "metadata": {},
     "output_type": "execute_result"
    }
   ],
   "source": [
    "lite_daily_return.min() # -42.14403214048795"
   ]
  },
  {
   "cell_type": "code",
   "execution_count": 96,
   "metadata": {},
   "outputs": [
    {
     "data": {
      "text/plain": [
       "Timestamp('2015-07-10 00:00:00+0000', tz='UTC')"
      ]
     },
     "execution_count": 96,
     "metadata": {},
     "output_type": "execute_result"
    }
   ],
   "source": [
    "lite_daily_return.idxmin(axis = 1) # 2015-07-10\n",
    "#lite_daily_return[ lite_daily_return == price ].index # checking code"
   ]
  },
  {
   "cell_type": "markdown",
   "metadata": {},
   "source": [
    "#### During the sample period, the lowest litecoin daily return is around -$42.14 on July 10th, 2015. Possible explanation: supply change"
   ]
  },
  {
   "cell_type": "markdown",
   "metadata": {},
   "source": [
    "### d) use the Bitcoin price data I provided for HW#1, get the daily returns of Bitcoin during the same sample period (you should have it from HW#1 already). For example, if the coin you collect is from January 1, 2016, then you only need to calculate the daily stock returns from 2016 to March 31, 2020. Now, plot the returns of this coin and Bitcoin in the same figure and report the figure. Is this coin’s return more volatile than Bitcoin return? Calculate and report the correlation between the Bitcoin return and the return of the Altcoin you choose. [4 points]"
   ]
  },
  {
   "cell_type": "code",
   "execution_count": 18,
   "metadata": {},
   "outputs": [
    {
     "data": {
      "text/html": [
       "<div>\n",
       "<style scoped>\n",
       "    .dataframe tbody tr th:only-of-type {\n",
       "        vertical-align: middle;\n",
       "    }\n",
       "\n",
       "    .dataframe tbody tr th {\n",
       "        vertical-align: top;\n",
       "    }\n",
       "\n",
       "    .dataframe thead th {\n",
       "        text-align: right;\n",
       "    }\n",
       "</style>\n",
       "<table border=\"1\" class=\"dataframe\">\n",
       "  <thead>\n",
       "    <tr style=\"text-align: right;\">\n",
       "      <th></th>\n",
       "      <th>Date</th>\n",
       "      <th>Closing Price (USD)</th>\n",
       "    </tr>\n",
       "  </thead>\n",
       "  <tbody>\n",
       "    <tr>\n",
       "      <td>0</td>\n",
       "      <td>1/1/14</td>\n",
       "      <td>769.098490</td>\n",
       "    </tr>\n",
       "    <tr>\n",
       "      <td>1</td>\n",
       "      <td>1/2/14</td>\n",
       "      <td>804.027190</td>\n",
       "    </tr>\n",
       "    <tr>\n",
       "      <td>2</td>\n",
       "      <td>1/3/14</td>\n",
       "      <td>813.317480</td>\n",
       "    </tr>\n",
       "    <tr>\n",
       "      <td>3</td>\n",
       "      <td>1/4/14</td>\n",
       "      <td>871.115830</td>\n",
       "    </tr>\n",
       "    <tr>\n",
       "      <td>4</td>\n",
       "      <td>1/5/14</td>\n",
       "      <td>970.650830</td>\n",
       "    </tr>\n",
       "    <tr>\n",
       "      <td>...</td>\n",
       "      <td>...</td>\n",
       "      <td>...</td>\n",
       "    </tr>\n",
       "    <tr>\n",
       "      <td>2267</td>\n",
       "      <td>3/27/20</td>\n",
       "      <td>6682.780049</td>\n",
       "    </tr>\n",
       "    <tr>\n",
       "      <td>2268</td>\n",
       "      <td>3/28/20</td>\n",
       "      <td>6229.488343</td>\n",
       "    </tr>\n",
       "    <tr>\n",
       "      <td>2269</td>\n",
       "      <td>3/29/20</td>\n",
       "      <td>5922.489835</td>\n",
       "    </tr>\n",
       "    <tr>\n",
       "      <td>2270</td>\n",
       "      <td>3/30/20</td>\n",
       "      <td>6483.739446</td>\n",
       "    </tr>\n",
       "    <tr>\n",
       "      <td>2271</td>\n",
       "      <td>3/31/20</td>\n",
       "      <td>6446.421347</td>\n",
       "    </tr>\n",
       "  </tbody>\n",
       "</table>\n",
       "<p>2272 rows × 2 columns</p>\n",
       "</div>"
      ],
      "text/plain": [
       "         Date  Closing Price (USD)\n",
       "0      1/1/14           769.098490\n",
       "1      1/2/14           804.027190\n",
       "2      1/3/14           813.317480\n",
       "3      1/4/14           871.115830\n",
       "4      1/5/14           970.650830\n",
       "...       ...                  ...\n",
       "2267  3/27/20          6682.780049\n",
       "2268  3/28/20          6229.488343\n",
       "2269  3/29/20          5922.489835\n",
       "2270  3/30/20          6483.739446\n",
       "2271  3/31/20          6446.421347\n",
       "\n",
       "[2272 rows x 2 columns]"
      ]
     },
     "execution_count": 18,
     "metadata": {},
     "output_type": "execute_result"
    }
   ],
   "source": [
    "# read bitcoin file\n",
    "url_bit = \"https://raw.githubusercontent.com/LilianYou/FinTech/master/bitcoin_price.csv\" # Make sure the url is the raw version of the file on GitHub\n",
    "\n",
    "bit_price = pd.read_csv(url_bit)\n",
    "\n",
    "bit_price"
   ]
  },
  {
   "cell_type": "code",
   "execution_count": 13,
   "metadata": {},
   "outputs": [
    {
     "data": {
      "text/html": [
       "<div>\n",
       "<style scoped>\n",
       "    .dataframe tbody tr th:only-of-type {\n",
       "        vertical-align: middle;\n",
       "    }\n",
       "\n",
       "    .dataframe tbody tr th {\n",
       "        vertical-align: top;\n",
       "    }\n",
       "\n",
       "    .dataframe thead th {\n",
       "        text-align: right;\n",
       "    }\n",
       "</style>\n",
       "<table border=\"1\" class=\"dataframe\">\n",
       "  <thead>\n",
       "    <tr style=\"text-align: right;\">\n",
       "      <th></th>\n",
       "      <th>Date</th>\n",
       "      <th>Closing Price (USD)</th>\n",
       "    </tr>\n",
       "  </thead>\n",
       "  <tbody>\n",
       "    <tr>\n",
       "      <td>0</td>\n",
       "      <td>1/1/14</td>\n",
       "      <td>769.098490</td>\n",
       "    </tr>\n",
       "    <tr>\n",
       "      <td>1</td>\n",
       "      <td>1/2/14</td>\n",
       "      <td>804.027190</td>\n",
       "    </tr>\n",
       "    <tr>\n",
       "      <td>2</td>\n",
       "      <td>1/3/14</td>\n",
       "      <td>813.317480</td>\n",
       "    </tr>\n",
       "    <tr>\n",
       "      <td>3</td>\n",
       "      <td>1/4/14</td>\n",
       "      <td>871.115830</td>\n",
       "    </tr>\n",
       "    <tr>\n",
       "      <td>4</td>\n",
       "      <td>1/5/14</td>\n",
       "      <td>970.650830</td>\n",
       "    </tr>\n",
       "    <tr>\n",
       "      <td>...</td>\n",
       "      <td>...</td>\n",
       "      <td>...</td>\n",
       "    </tr>\n",
       "    <tr>\n",
       "      <td>2267</td>\n",
       "      <td>3/27/20</td>\n",
       "      <td>6682.780049</td>\n",
       "    </tr>\n",
       "    <tr>\n",
       "      <td>2268</td>\n",
       "      <td>3/28/20</td>\n",
       "      <td>6229.488343</td>\n",
       "    </tr>\n",
       "    <tr>\n",
       "      <td>2269</td>\n",
       "      <td>3/29/20</td>\n",
       "      <td>5922.489835</td>\n",
       "    </tr>\n",
       "    <tr>\n",
       "      <td>2270</td>\n",
       "      <td>3/30/20</td>\n",
       "      <td>6483.739446</td>\n",
       "    </tr>\n",
       "    <tr>\n",
       "      <td>2271</td>\n",
       "      <td>3/31/20</td>\n",
       "      <td>6446.421347</td>\n",
       "    </tr>\n",
       "  </tbody>\n",
       "</table>\n",
       "<p>2263 rows × 2 columns</p>\n",
       "</div>"
      ],
      "text/plain": [
       "         Date  Closing Price (USD)\n",
       "0      1/1/14           769.098490\n",
       "1      1/2/14           804.027190\n",
       "2      1/3/14           813.317480\n",
       "3      1/4/14           871.115830\n",
       "4      1/5/14           970.650830\n",
       "...       ...                  ...\n",
       "2267  3/27/20          6682.780049\n",
       "2268  3/28/20          6229.488343\n",
       "2269  3/29/20          5922.489835\n",
       "2270  3/30/20          6483.739446\n",
       "2271  3/31/20          6446.421347\n",
       "\n",
       "[2263 rows x 2 columns]"
      ]
     },
     "execution_count": 13,
     "metadata": {},
     "output_type": "execute_result"
    }
   ],
   "source": [
    "# get rid of data before 2014.1.1 and after 2020.3.31\n",
    "indexdate_early2 = bit_price['Date'].str.endswith('13')\n",
    "indexdelete_early2 = indexdate_early2[indexdate_early2 == True].index\n",
    "\n",
    "#indexdate_late2 = bit_price['Date'].str.endswith('4/20')\n",
    "#indexdelete_late2 = indexdate_late2[indexdate_late2 == True].index\n",
    "\n",
    "indexdelete2 = indexdelete_early2.union(indexdelete_late2)\n",
    "bit_price.drop(indexdelete2, inplace = True)\n",
    "\n",
    "bit_price"
   ]
  },
  {
   "cell_type": "code",
   "execution_count": 106,
   "metadata": {},
   "outputs": [
    {
     "data": {
      "text/html": [
       "<div>\n",
       "<style scoped>\n",
       "    .dataframe tbody tr th:only-of-type {\n",
       "        vertical-align: middle;\n",
       "    }\n",
       "\n",
       "    .dataframe tbody tr th {\n",
       "        vertical-align: top;\n",
       "    }\n",
       "\n",
       "    .dataframe thead th {\n",
       "        text-align: right;\n",
       "    }\n",
       "</style>\n",
       "<table border=\"1\" class=\"dataframe\">\n",
       "  <thead>\n",
       "    <tr style=\"text-align: right;\">\n",
       "      <th></th>\n",
       "      <th>Date</th>\n",
       "      <th>Closing Price (USD)</th>\n",
       "    </tr>\n",
       "  </thead>\n",
       "  <tbody>\n",
       "    <tr>\n",
       "      <td>2267</td>\n",
       "      <td>3/27/20</td>\n",
       "      <td>6682.780049</td>\n",
       "    </tr>\n",
       "    <tr>\n",
       "      <td>2268</td>\n",
       "      <td>3/28/20</td>\n",
       "      <td>6229.488343</td>\n",
       "    </tr>\n",
       "    <tr>\n",
       "      <td>2269</td>\n",
       "      <td>3/29/20</td>\n",
       "      <td>5922.489835</td>\n",
       "    </tr>\n",
       "    <tr>\n",
       "      <td>2270</td>\n",
       "      <td>3/30/20</td>\n",
       "      <td>6483.739446</td>\n",
       "    </tr>\n",
       "    <tr>\n",
       "      <td>2271</td>\n",
       "      <td>3/31/20</td>\n",
       "      <td>6446.421347</td>\n",
       "    </tr>\n",
       "  </tbody>\n",
       "</table>\n",
       "</div>"
      ],
      "text/plain": [
       "         Date  Closing Price (USD)\n",
       "2267  3/27/20          6682.780049\n",
       "2268  3/28/20          6229.488343\n",
       "2269  3/29/20          5922.489835\n",
       "2270  3/30/20          6483.739446\n",
       "2271  3/31/20          6446.421347"
      ]
     },
     "execution_count": 106,
     "metadata": {},
     "output_type": "execute_result"
    }
   ],
   "source": [
    "bit_price.tail()"
   ]
  },
  {
   "cell_type": "code",
   "execution_count": 19,
   "metadata": {},
   "outputs": [
    {
     "data": {
      "text/html": [
       "<div>\n",
       "<style scoped>\n",
       "    .dataframe tbody tr th:only-of-type {\n",
       "        vertical-align: middle;\n",
       "    }\n",
       "\n",
       "    .dataframe tbody tr th {\n",
       "        vertical-align: top;\n",
       "    }\n",
       "\n",
       "    .dataframe thead th {\n",
       "        text-align: right;\n",
       "    }\n",
       "</style>\n",
       "<table border=\"1\" class=\"dataframe\">\n",
       "  <thead>\n",
       "    <tr style=\"text-align: right;\">\n",
       "      <th></th>\n",
       "      <th>Closing Price (USD)</th>\n",
       "    </tr>\n",
       "    <tr>\n",
       "      <th>Date</th>\n",
       "      <th></th>\n",
       "    </tr>\n",
       "  </thead>\n",
       "  <tbody>\n",
       "    <tr>\n",
       "      <td>2014-01-01</td>\n",
       "      <td>769.09849</td>\n",
       "    </tr>\n",
       "    <tr>\n",
       "      <td>2014-01-02</td>\n",
       "      <td>804.02719</td>\n",
       "    </tr>\n",
       "    <tr>\n",
       "      <td>2014-01-03</td>\n",
       "      <td>813.31748</td>\n",
       "    </tr>\n",
       "    <tr>\n",
       "      <td>2014-01-04</td>\n",
       "      <td>871.11583</td>\n",
       "    </tr>\n",
       "    <tr>\n",
       "      <td>2014-01-05</td>\n",
       "      <td>970.65083</td>\n",
       "    </tr>\n",
       "  </tbody>\n",
       "</table>\n",
       "</div>"
      ],
      "text/plain": [
       "            Closing Price (USD)\n",
       "Date                           \n",
       "2014-01-01            769.09849\n",
       "2014-01-02            804.02719\n",
       "2014-01-03            813.31748\n",
       "2014-01-04            871.11583\n",
       "2014-01-05            970.65083"
      ]
     },
     "execution_count": 19,
     "metadata": {},
     "output_type": "execute_result"
    }
   ],
   "source": [
    "bit_price['Date'] = pd.to_datetime(bit_price['Date'])\n",
    "bit_price = bit_price.set_index('Date')\n",
    "bit_price.head()"
   ]
  },
  {
   "cell_type": "code",
   "execution_count": 20,
   "metadata": {},
   "outputs": [],
   "source": [
    "bit_daily_return = bit_price.pct_change()*100"
   ]
  },
  {
   "cell_type": "code",
   "execution_count": 21,
   "metadata": {},
   "outputs": [
    {
     "data": {
      "text/plain": [
       "2014-01-01         NaN\n",
       "2014-01-02    3.790365\n",
       "2014-01-03   -5.404452\n",
       "2014-01-04    4.497184\n",
       "2014-01-05    4.967538\n",
       "Name: price, dtype: float64"
      ]
     },
     "execution_count": 21,
     "metadata": {},
     "output_type": "execute_result"
    }
   ],
   "source": [
    "lite_daily_return.index = lite_daily_return.index.date\n",
    "lite_daily_return.head()"
   ]
  },
  {
   "cell_type": "code",
   "execution_count": 22,
   "metadata": {},
   "outputs": [],
   "source": [
    "merged = pd.merge(lite_daily_return, bit_daily_return, left_index=True, right_index=True)\n",
    "merged.columns = ['lite_daily_return', 'bit_daily_return']"
   ]
  },
  {
   "cell_type": "code",
   "execution_count": 23,
   "metadata": {},
   "outputs": [
    {
     "data": {
      "text/html": [
       "<div>\n",
       "<style scoped>\n",
       "    .dataframe tbody tr th:only-of-type {\n",
       "        vertical-align: middle;\n",
       "    }\n",
       "\n",
       "    .dataframe tbody tr th {\n",
       "        vertical-align: top;\n",
       "    }\n",
       "\n",
       "    .dataframe thead th {\n",
       "        text-align: right;\n",
       "    }\n",
       "</style>\n",
       "<table border=\"1\" class=\"dataframe\">\n",
       "  <thead>\n",
       "    <tr style=\"text-align: right;\">\n",
       "      <th></th>\n",
       "      <th>lite_daily_return</th>\n",
       "      <th>bit_daily_return</th>\n",
       "    </tr>\n",
       "  </thead>\n",
       "  <tbody>\n",
       "    <tr>\n",
       "      <td>2014-01-01</td>\n",
       "      <td>NaN</td>\n",
       "      <td>NaN</td>\n",
       "    </tr>\n",
       "    <tr>\n",
       "      <td>2014-01-02</td>\n",
       "      <td>3.790365</td>\n",
       "      <td>4.541512</td>\n",
       "    </tr>\n",
       "    <tr>\n",
       "      <td>2014-01-03</td>\n",
       "      <td>-5.404452</td>\n",
       "      <td>1.155470</td>\n",
       "    </tr>\n",
       "    <tr>\n",
       "      <td>2014-01-04</td>\n",
       "      <td>4.497184</td>\n",
       "      <td>7.106493</td>\n",
       "    </tr>\n",
       "    <tr>\n",
       "      <td>2014-01-05</td>\n",
       "      <td>4.967538</td>\n",
       "      <td>11.426150</td>\n",
       "    </tr>\n",
       "  </tbody>\n",
       "</table>\n",
       "</div>"
      ],
      "text/plain": [
       "            lite_daily_return  bit_daily_return\n",
       "2014-01-01                NaN               NaN\n",
       "2014-01-02           3.790365          4.541512\n",
       "2014-01-03          -5.404452          1.155470\n",
       "2014-01-04           4.497184          7.106493\n",
       "2014-01-05           4.967538         11.426150"
      ]
     },
     "execution_count": 23,
     "metadata": {},
     "output_type": "execute_result"
    }
   ],
   "source": [
    "merged.head()"
   ]
  },
  {
   "cell_type": "code",
   "execution_count": 24,
   "metadata": {},
   "outputs": [
    {
     "data": {
      "text/plain": [
       "<matplotlib.axes._subplots.AxesSubplot at 0x1185fa890>"
      ]
     },
     "execution_count": 24,
     "metadata": {},
     "output_type": "execute_result"
    },
    {
     "data": {
      "image/png": "[encoded data removed]",
      "text/plain": [
       "<Figure size 432x288 with 1 Axes>"
      ]
     },
     "metadata": {
      "needs_background": "light"
     },
     "output_type": "display_data"
    }
   ],
   "source": [
    "merged.plot()"
   ]
  },
  {
   "cell_type": "markdown",
   "metadata": {},
   "source": [
    "#### From the figure, we could tell that litecoin's return is more volatile than bitcoin's return."
   ]
  },
  {
   "cell_type": "code",
   "execution_count": 25,
   "metadata": {},
   "outputs": [
    {
     "data": {
      "text/html": [
       "<div>\n",
       "<style scoped>\n",
       "    .dataframe tbody tr th:only-of-type {\n",
       "        vertical-align: middle;\n",
       "    }\n",
       "\n",
       "    .dataframe tbody tr th {\n",
       "        vertical-align: top;\n",
       "    }\n",
       "\n",
       "    .dataframe thead th {\n",
       "        text-align: right;\n",
       "    }\n",
       "</style>\n",
       "<table border=\"1\" class=\"dataframe\">\n",
       "  <thead>\n",
       "    <tr style=\"text-align: right;\">\n",
       "      <th></th>\n",
       "      <th>lite_daily_return</th>\n",
       "      <th>bit_daily_return</th>\n",
       "    </tr>\n",
       "  </thead>\n",
       "  <tbody>\n",
       "    <tr>\n",
       "      <td>lite_daily_return</td>\n",
       "      <td>1.000000</td>\n",
       "      <td>0.270396</td>\n",
       "    </tr>\n",
       "    <tr>\n",
       "      <td>bit_daily_return</td>\n",
       "      <td>0.270396</td>\n",
       "      <td>1.000000</td>\n",
       "    </tr>\n",
       "  </tbody>\n",
       "</table>\n",
       "</div>"
      ],
      "text/plain": [
       "                   lite_daily_return  bit_daily_return\n",
       "lite_daily_return           1.000000          0.270396\n",
       "bit_daily_return            0.270396          1.000000"
      ]
     },
     "execution_count": 25,
     "metadata": {},
     "output_type": "execute_result"
    }
   ],
   "source": [
    "merged.corr()"
   ]
  },
  {
   "cell_type": "markdown",
   "metadata": {},
   "source": [
    "#### The correlation between the daily return of litecoin and bitcoin is around 0.279, which is only a low to medium correlation."
   ]
  },
  {
   "cell_type": "markdown",
   "metadata": {},
   "source": [
    "### e) calculate and report summary statistics (mean, median, standard deviation) of the daily returns of Bitcoin and the Altcoin you choose during the same sample period. Is the standard deviation of this Altcoin higher or lower than the standard deviation of Bitcoin returns? Is this consistent with your conclusion from part d)? [4 points]"
   ]
  },
  {
   "cell_type": "code",
   "execution_count": 124,
   "metadata": {},
   "outputs": [
    {
     "data": {
      "text/html": [
       "<div>\n",
       "<style scoped>\n",
       "    .dataframe tbody tr th:only-of-type {\n",
       "        vertical-align: middle;\n",
       "    }\n",
       "\n",
       "    .dataframe tbody tr th {\n",
       "        vertical-align: top;\n",
       "    }\n",
       "\n",
       "    .dataframe thead th {\n",
       "        text-align: right;\n",
       "    }\n",
       "</style>\n",
       "<table border=\"1\" class=\"dataframe\">\n",
       "  <thead>\n",
       "    <tr style=\"text-align: right;\">\n",
       "      <th></th>\n",
       "      <th>lite_daily_return</th>\n",
       "      <th>bit_daily_return</th>\n",
       "    </tr>\n",
       "  </thead>\n",
       "  <tbody>\n",
       "    <tr>\n",
       "      <td>count</td>\n",
       "      <td>2261.000000</td>\n",
       "      <td>2261.000000</td>\n",
       "    </tr>\n",
       "    <tr>\n",
       "      <td>mean</td>\n",
       "      <td>0.170983</td>\n",
       "      <td>0.179825</td>\n",
       "    </tr>\n",
       "    <tr>\n",
       "      <td>std</td>\n",
       "      <td>5.899031</td>\n",
       "      <td>4.037996</td>\n",
       "    </tr>\n",
       "    <tr>\n",
       "      <td>min</td>\n",
       "      <td>-42.144032</td>\n",
       "      <td>-27.090062</td>\n",
       "    </tr>\n",
       "    <tr>\n",
       "      <td>25%</td>\n",
       "      <td>-2.156771</td>\n",
       "      <td>-1.350348</td>\n",
       "    </tr>\n",
       "    <tr>\n",
       "      <td>50%</td>\n",
       "      <td>-0.114277</td>\n",
       "      <td>0.101479</td>\n",
       "    </tr>\n",
       "    <tr>\n",
       "      <td>75%</td>\n",
       "      <td>1.821881</td>\n",
       "      <td>1.813896</td>\n",
       "    </tr>\n",
       "    <tr>\n",
       "      <td>max</td>\n",
       "      <td>67.260239</td>\n",
       "      <td>23.925200</td>\n",
       "    </tr>\n",
       "  </tbody>\n",
       "</table>\n",
       "</div>"
      ],
      "text/plain": [
       "       lite_daily_return  bit_daily_return\n",
       "count        2261.000000       2261.000000\n",
       "mean            0.170983          0.179825\n",
       "std             5.899031          4.037996\n",
       "min           -42.144032        -27.090062\n",
       "25%            -2.156771         -1.350348\n",
       "50%            -0.114277          0.101479\n",
       "75%             1.821881          1.813896\n",
       "max            67.260239         23.925200"
      ]
     },
     "execution_count": 124,
     "metadata": {},
     "output_type": "execute_result"
    }
   ],
   "source": [
    "merged.describe()"
   ]
  },
  {
   "cell_type": "markdown",
   "metadata": {},
   "source": [
    "#### The standard deviation of litecoin (around 5.899 USD) is higher than the standard deviation of bitcoin (around 4.038USD). This is consistent with my conclusion from part d) that litecoin is more volatile than bitcoin."
   ]
  }
 ],
 "metadata": {
  "kernelspec": {
   "display_name": "Python 3",
   "language": "python",
   "name": "python3"
  },
  "language_info": {
   "codemirror_mode": {
    "name": "ipython",
    "version": 3
   },
   "file_extension": ".py",
   "mimetype": "text/x-python",
   "name": "python",
   "nbconvert_exporter": "python",
   "pygments_lexer": "ipython3",
   "version": "3.7.4"
  }
 },
 "nbformat": 4,
 "nbformat_minor": 2
}
