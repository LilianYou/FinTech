{
 "cells": [
  {
   "cell_type": "markdown",
   "metadata": {},
   "source": [
    "## Assignment 3"
   ]
  },
  {
   "cell_type": "markdown",
   "metadata": {},
   "source": [
    "### Question 1. Crowdfunding data from Kickstarter [15 points]\n",
    "The objective of this assignment is to understand projects on the crowdfunding website Kickstarter. I provide you a Crowdfunding data file (ks-projects-sample.csv). This data is a random sample of 200 US projects based on a dataset from https://www.kaggle.com/kemical/kickstarter-projects. \n",
    "\n",
    "Variable Definitions\n",
    "\n",
    "- Name: the name of the crowdfunding project\n",
    "- Category/Main category: the category that the project belongs to\n",
    "- Start: the date on which the fundraising campaign starts\n",
    "- End: the date on which the fundraising campaign ends\n",
    "- Year: the year in which the fundraising campaign ends\n",
    "- Goal: the fundraising goal of the crowdfunding project\n",
    "- Pledged: the amount of money raised by the project\n",
    "- Currency: the currency in which Goal and Pledged are quoted\n",
    "- Backers: the number of people who have supported the project"
   ]
  },
  {
   "cell_type": "markdown",
   "metadata": {},
   "source": [
    "#### a) Plot the number of projects and the amount of funding raised (pledged) by the year in which the fundraising campaign ended. Do you see any trend over years? [3 points]"
   ]
  },
  {
   "cell_type": "code",
   "execution_count": 4,
   "metadata": {},
   "outputs": [],
   "source": [
    "import pandas as pd\n",
    "import matplotlib.pyplot as plt"
   ]
  },
  {
   "cell_type": "code",
   "execution_count": 10,
   "metadata": {},
   "outputs": [
    {
     "data": {
      "text/html": [
       "<div>\n",
       "<style scoped>\n",
       "    .dataframe tbody tr th:only-of-type {\n",
       "        vertical-align: middle;\n",
       "    }\n",
       "\n",
       "    .dataframe tbody tr th {\n",
       "        vertical-align: top;\n",
       "    }\n",
       "\n",
       "    .dataframe thead th {\n",
       "        text-align: right;\n",
       "    }\n",
       "</style>\n",
       "<table border=\"1\" class=\"dataframe\">\n",
       "  <thead>\n",
       "    <tr style=\"text-align: right;\">\n",
       "      <th></th>\n",
       "      <th>name</th>\n",
       "      <th>category</th>\n",
       "      <th>main_category</th>\n",
       "      <th>currency</th>\n",
       "      <th>start</th>\n",
       "      <th>end</th>\n",
       "      <th>year</th>\n",
       "      <th>goal</th>\n",
       "      <th>pledged</th>\n",
       "      <th>backers</th>\n",
       "    </tr>\n",
       "  </thead>\n",
       "  <tbody>\n",
       "    <tr>\n",
       "      <td>0</td>\n",
       "      <td>HELIO: Incredible Brightness, Ultra Lightness.</td>\n",
       "      <td>Design</td>\n",
       "      <td>Design</td>\n",
       "      <td>USD</td>\n",
       "      <td>5/3/17</td>\n",
       "      <td>7/2/17</td>\n",
       "      <td>2017</td>\n",
       "      <td>10000</td>\n",
       "      <td>68033.0</td>\n",
       "      <td>1225</td>\n",
       "    </tr>\n",
       "    <tr>\n",
       "      <td>1</td>\n",
       "      <td>Artist Residency @ Vermont Studio Center</td>\n",
       "      <td>Painting</td>\n",
       "      <td>Art</td>\n",
       "      <td>USD</td>\n",
       "      <td>2/20/13</td>\n",
       "      <td>3/22/13</td>\n",
       "      <td>2013</td>\n",
       "      <td>1500</td>\n",
       "      <td>2173.0</td>\n",
       "      <td>21</td>\n",
       "    </tr>\n",
       "    <tr>\n",
       "      <td>2</td>\n",
       "      <td>ARTSi - Complete Your iPad 2 / New iPad Painti...</td>\n",
       "      <td>Product Design</td>\n",
       "      <td>Design</td>\n",
       "      <td>USD</td>\n",
       "      <td>7/11/12</td>\n",
       "      <td>8/30/12</td>\n",
       "      <td>2012</td>\n",
       "      <td>53000</td>\n",
       "      <td>348.0</td>\n",
       "      <td>11</td>\n",
       "    </tr>\n",
       "    <tr>\n",
       "      <td>3</td>\n",
       "      <td>Sidereal Calendar Year 413: Kemetic Societies ...</td>\n",
       "      <td>Publishing</td>\n",
       "      <td>Publishing</td>\n",
       "      <td>USD</td>\n",
       "      <td>8/15/13</td>\n",
       "      <td>8/26/13</td>\n",
       "      <td>2013</td>\n",
       "      <td>5500</td>\n",
       "      <td>5965.0</td>\n",
       "      <td>100</td>\n",
       "    </tr>\n",
       "    <tr>\n",
       "      <td>4</td>\n",
       "      <td>Unseen world of Colorado</td>\n",
       "      <td>Photography</td>\n",
       "      <td>Photography</td>\n",
       "      <td>USD</td>\n",
       "      <td>5/10/14</td>\n",
       "      <td>5/31/14</td>\n",
       "      <td>2014</td>\n",
       "      <td>5000</td>\n",
       "      <td>0.0</td>\n",
       "      <td>0</td>\n",
       "    </tr>\n",
       "  </tbody>\n",
       "</table>\n",
       "</div>"
      ],
      "text/plain": [
       "                                                name        category  \\\n",
       "0     HELIO: Incredible Brightness, Ultra Lightness.          Design   \n",
       "1           Artist Residency @ Vermont Studio Center        Painting   \n",
       "2  ARTSi - Complete Your iPad 2 / New iPad Painti...  Product Design   \n",
       "3  Sidereal Calendar Year 413: Kemetic Societies ...      Publishing   \n",
       "4                           Unseen world of Colorado     Photography   \n",
       "\n",
       "  main_category currency    start      end  year   goal  pledged  backers  \n",
       "0        Design      USD   5/3/17   7/2/17  2017  10000  68033.0     1225  \n",
       "1           Art      USD  2/20/13  3/22/13  2013   1500   2173.0       21  \n",
       "2        Design      USD  7/11/12  8/30/12  2012  53000    348.0       11  \n",
       "3    Publishing      USD  8/15/13  8/26/13  2013   5500   5965.0      100  \n",
       "4   Photography      USD  5/10/14  5/31/14  2014   5000      0.0        0  "
      ]
     },
     "execution_count": 10,
     "metadata": {},
     "output_type": "execute_result"
    }
   ],
   "source": [
    "crowdf = pd.read_csv(\"ks-projects-sample.csv\")\n",
    "crowdf.head()"
   ]
  },
  {
   "cell_type": "code",
   "execution_count": 12,
   "metadata": {},
   "outputs": [],
   "source": [
    "crowdf_group = crowdf.groupby('year')"
   ]
  },
  {
   "cell_type": "code",
   "execution_count": 13,
   "metadata": {},
   "outputs": [
    {
     "data": {
      "text/plain": [
       "<matplotlib.axes._subplots.AxesSubplot at 0x109588450>"
      ]
     },
     "execution_count": 13,
     "metadata": {},
     "output_type": "execute_result"
    },
    {
     "data": {
      "image/png": "[encoded data removed]",
      "text/plain": [
       "<Figure size 576x432 with 1 Axes>"
      ]
     },
     "metadata": {
      "needs_background": "light"
     },
     "output_type": "display_data"
    }
   ],
   "source": [
    "crowdf_group['name'].count().plot(figsize=(8,6),title='Number of projects')"
   ]
  },
  {
   "cell_type": "markdown",
   "metadata": {},
   "source": [
    "The number of projects increased from 2009 to 2015, reached plateau during 2014-2015, and dropped from 2015-2017."
   ]
  },
  {
   "cell_type": "code",
   "execution_count": 14,
   "metadata": {},
   "outputs": [
    {
     "data": {
      "text/plain": [
       "<matplotlib.axes._subplots.AxesSubplot at 0x1095da850>"
      ]
     },
     "execution_count": 14,
     "metadata": {},
     "output_type": "execute_result"
    },
    {
     "data": {
      "image/png": "[encoded data removed]",
      "text/plain": [
       "<Figure size 576x432 with 1 Axes>"
      ]
     },
     "metadata": {
      "needs_background": "light"
     },
     "output_type": "display_data"
    }
   ],
   "source": [
    "crowdf_group['pledged'].sum().plot(figsize=(8,6),title='Amount of funding raised')"
   ]
  },
  {
   "cell_type": "markdown",
   "metadata": {},
   "source": [
    "The amount of funding raised has been increasing from 2009 to 2013 with a rapid increase since 2011. However, the amount during 2013-2016 and started to increase again since 2016."
   ]
  },
  {
   "cell_type": "markdown",
   "metadata": {},
   "source": [
    "### b) calculate and report summary statistics (mean, median, and standard deviation) for these variables: goal, pledged, backers. [3 points]\n"
   ]
  },
  {
   "cell_type": "code",
   "execution_count": 15,
   "metadata": {},
   "outputs": [
    {
     "data": {
      "text/plain": [
       "count    2.000000e+02\n",
       "mean     3.453593e+04\n",
       "std      2.250444e+05\n",
       "min      5.000000e+00\n",
       "25%      2.500000e+03\n",
       "50%      6.000000e+03\n",
       "75%      1.425000e+04\n",
       "max      3.000000e+06\n",
       "Name: goal, dtype: float64"
      ]
     },
     "execution_count": 15,
     "metadata": {},
     "output_type": "execute_result"
    }
   ],
   "source": [
    "crowdf['goal'].describe()"
   ]
  },
  {
   "cell_type": "markdown",
   "metadata": {},
   "source": [
    "The fund raising goal has a mean of 34535.93 USD, with a median value of 6000 USD and a standard deviation of 225044.4 USD."
   ]
  },
  {
   "cell_type": "code",
   "execution_count": 16,
   "metadata": {},
   "outputs": [
    {
     "data": {
      "text/plain": [
       "count       200.000000\n",
       "mean       6258.928750\n",
       "std       13830.669501\n",
       "min           0.000000\n",
       "25%          47.750000\n",
       "50%         918.045000\n",
       "75%        6034.760000\n",
       "max      119321.000000\n",
       "Name: pledged, dtype: float64"
      ]
     },
     "execution_count": 16,
     "metadata": {},
     "output_type": "execute_result"
    }
   ],
   "source": [
    "crowdf['pledged'].describe()"
   ]
  },
  {
   "cell_type": "markdown",
   "metadata": {},
   "source": [
    "The fund raising goal has a mean of 6258.93 USD, with a median value of 918.05 USD and a standard deviation of 13830.67 USD."
   ]
  },
  {
   "cell_type": "markdown",
   "metadata": {},
   "source": [
    "### c) a project is successful if the amount of funding it raised is equal to or greater than the goal. How many projects were successful based on this definition? [2 points]"
   ]
  },
  {
   "cell_type": "code",
   "execution_count": 17,
   "metadata": {},
   "outputs": [
    {
     "data": {
      "text/html": [
       "<div>\n",
       "<style scoped>\n",
       "    .dataframe tbody tr th:only-of-type {\n",
       "        vertical-align: middle;\n",
       "    }\n",
       "\n",
       "    .dataframe tbody tr th {\n",
       "        vertical-align: top;\n",
       "    }\n",
       "\n",
       "    .dataframe thead th {\n",
       "        text-align: right;\n",
       "    }\n",
       "</style>\n",
       "<table border=\"1\" class=\"dataframe\">\n",
       "  <thead>\n",
       "    <tr style=\"text-align: right;\">\n",
       "      <th></th>\n",
       "      <th>name</th>\n",
       "      <th>category</th>\n",
       "      <th>main_category</th>\n",
       "      <th>currency</th>\n",
       "      <th>start</th>\n",
       "      <th>end</th>\n",
       "      <th>year</th>\n",
       "      <th>goal</th>\n",
       "      <th>pledged</th>\n",
       "      <th>backers</th>\n",
       "      <th>success</th>\n",
       "    </tr>\n",
       "  </thead>\n",
       "  <tbody>\n",
       "    <tr>\n",
       "      <td>0</td>\n",
       "      <td>HELIO: Incredible Brightness, Ultra Lightness.</td>\n",
       "      <td>Design</td>\n",
       "      <td>Design</td>\n",
       "      <td>USD</td>\n",
       "      <td>5/3/17</td>\n",
       "      <td>7/2/17</td>\n",
       "      <td>2017</td>\n",
       "      <td>10000</td>\n",
       "      <td>68033.0</td>\n",
       "      <td>1225</td>\n",
       "      <td>True</td>\n",
       "    </tr>\n",
       "    <tr>\n",
       "      <td>1</td>\n",
       "      <td>Artist Residency @ Vermont Studio Center</td>\n",
       "      <td>Painting</td>\n",
       "      <td>Art</td>\n",
       "      <td>USD</td>\n",
       "      <td>2/20/13</td>\n",
       "      <td>3/22/13</td>\n",
       "      <td>2013</td>\n",
       "      <td>1500</td>\n",
       "      <td>2173.0</td>\n",
       "      <td>21</td>\n",
       "      <td>True</td>\n",
       "    </tr>\n",
       "    <tr>\n",
       "      <td>2</td>\n",
       "      <td>ARTSi - Complete Your iPad 2 / New iPad Painti...</td>\n",
       "      <td>Product Design</td>\n",
       "      <td>Design</td>\n",
       "      <td>USD</td>\n",
       "      <td>7/11/12</td>\n",
       "      <td>8/30/12</td>\n",
       "      <td>2012</td>\n",
       "      <td>53000</td>\n",
       "      <td>348.0</td>\n",
       "      <td>11</td>\n",
       "      <td>False</td>\n",
       "    </tr>\n",
       "    <tr>\n",
       "      <td>3</td>\n",
       "      <td>Sidereal Calendar Year 413: Kemetic Societies ...</td>\n",
       "      <td>Publishing</td>\n",
       "      <td>Publishing</td>\n",
       "      <td>USD</td>\n",
       "      <td>8/15/13</td>\n",
       "      <td>8/26/13</td>\n",
       "      <td>2013</td>\n",
       "      <td>5500</td>\n",
       "      <td>5965.0</td>\n",
       "      <td>100</td>\n",
       "      <td>True</td>\n",
       "    </tr>\n",
       "    <tr>\n",
       "      <td>4</td>\n",
       "      <td>Unseen world of Colorado</td>\n",
       "      <td>Photography</td>\n",
       "      <td>Photography</td>\n",
       "      <td>USD</td>\n",
       "      <td>5/10/14</td>\n",
       "      <td>5/31/14</td>\n",
       "      <td>2014</td>\n",
       "      <td>5000</td>\n",
       "      <td>0.0</td>\n",
       "      <td>0</td>\n",
       "      <td>False</td>\n",
       "    </tr>\n",
       "  </tbody>\n",
       "</table>\n",
       "</div>"
      ],
      "text/plain": [
       "                                                name        category  \\\n",
       "0     HELIO: Incredible Brightness, Ultra Lightness.          Design   \n",
       "1           Artist Residency @ Vermont Studio Center        Painting   \n",
       "2  ARTSi - Complete Your iPad 2 / New iPad Painti...  Product Design   \n",
       "3  Sidereal Calendar Year 413: Kemetic Societies ...      Publishing   \n",
       "4                           Unseen world of Colorado     Photography   \n",
       "\n",
       "  main_category currency    start      end  year   goal  pledged  backers  \\\n",
       "0        Design      USD   5/3/17   7/2/17  2017  10000  68033.0     1225   \n",
       "1           Art      USD  2/20/13  3/22/13  2013   1500   2173.0       21   \n",
       "2        Design      USD  7/11/12  8/30/12  2012  53000    348.0       11   \n",
       "3    Publishing      USD  8/15/13  8/26/13  2013   5500   5965.0      100   \n",
       "4   Photography      USD  5/10/14  5/31/14  2014   5000      0.0        0   \n",
       "\n",
       "   success  \n",
       "0     True  \n",
       "1     True  \n",
       "2    False  \n",
       "3     True  \n",
       "4    False  "
      ]
     },
     "execution_count": 17,
     "metadata": {},
     "output_type": "execute_result"
    }
   ],
   "source": [
    "crowdf['success'] = (crowdf.pledged >= crowdf.goal)\n",
    "crowdf.head()"
   ]
  },
  {
   "cell_type": "code",
   "execution_count": 18,
   "metadata": {},
   "outputs": [
    {
     "data": {
      "text/plain": [
       "83"
      ]
     },
     "execution_count": 18,
     "metadata": {},
     "output_type": "execute_result"
    }
   ],
   "source": [
    "sum(crowdf.success == True)"
   ]
  },
  {
   "cell_type": "markdown",
   "metadata": {},
   "source": [
    "83 projects were successful out of the sample data."
   ]
  },
  {
   "cell_type": "markdown",
   "metadata": {},
   "source": [
    "## d) calculate the success rate over different years, plot the fraction of successful projects in each year. Do you see any trend? [3 points]"
   ]
  },
  {
   "cell_type": "code",
   "execution_count": 19,
   "metadata": {},
   "outputs": [
    {
     "data": {
      "text/plain": [
       "<matplotlib.axes._subplots.AxesSubplot at 0x10882f110>"
      ]
     },
     "execution_count": 19,
     "metadata": {},
     "output_type": "execute_result"
    },
    {
     "data": {
      "image/png": "[encoded data removed]",
      "text/plain": [
       "<Figure size 576x432 with 1 Axes>"
      ]
     },
     "metadata": {
      "needs_background": "light"
     },
     "output_type": "display_data"
    }
   ],
   "source": [
    "crowdf_group = crowdf.groupby('year')\n",
    "crowdf_group['success'].mean().plot(figsize=(8,6),title='Success rate')"
   ]
  },
  {
   "cell_type": "markdown",
   "metadata": {},
   "source": [
    "From the above figure, we can see that the success rate increased rapidly from 2009 to 2010 and reached the highest point in 2010. However, the success rate has been decreasing from 2010 to 2016 with a slow rebounce 2016-2017."
   ]
  },
  {
   "cell_type": "markdown",
   "metadata": {},
   "source": [
    "### e) choose your favorite project among these successful projects that you would invest and explain why you like the project. You can go to its website on Kickstarter and look at their demos. Can you provide some explanations why this project succeeded? [4 points] (Note that this part is an open-end question and please provide some insightful discussion based on thoughtful research on the project you choose. No more than 200 words)."
   ]
  },
  {
   "cell_type": "code",
   "execution_count": 20,
   "metadata": {},
   "outputs": [
    {
     "data": {
      "text/html": [
       "<div>\n",
       "<style scoped>\n",
       "    .dataframe tbody tr th:only-of-type {\n",
       "        vertical-align: middle;\n",
       "    }\n",
       "\n",
       "    .dataframe tbody tr th {\n",
       "        vertical-align: top;\n",
       "    }\n",
       "\n",
       "    .dataframe thead th {\n",
       "        text-align: right;\n",
       "    }\n",
       "</style>\n",
       "<table border=\"1\" class=\"dataframe\">\n",
       "  <thead>\n",
       "    <tr style=\"text-align: right;\">\n",
       "      <th></th>\n",
       "      <th>name</th>\n",
       "      <th>category</th>\n",
       "      <th>main_category</th>\n",
       "      <th>currency</th>\n",
       "      <th>start</th>\n",
       "      <th>end</th>\n",
       "      <th>year</th>\n",
       "      <th>goal</th>\n",
       "      <th>pledged</th>\n",
       "      <th>backers</th>\n",
       "      <th>success</th>\n",
       "      <th>success_ratio</th>\n",
       "    </tr>\n",
       "  </thead>\n",
       "  <tbody>\n",
       "    <tr>\n",
       "      <td>0</td>\n",
       "      <td>HELIO: Incredible Brightness, Ultra Lightness.</td>\n",
       "      <td>Design</td>\n",
       "      <td>Design</td>\n",
       "      <td>USD</td>\n",
       "      <td>5/3/17</td>\n",
       "      <td>7/2/17</td>\n",
       "      <td>2017</td>\n",
       "      <td>10000</td>\n",
       "      <td>68033.0</td>\n",
       "      <td>1225</td>\n",
       "      <td>True</td>\n",
       "      <td>6.803300</td>\n",
       "    </tr>\n",
       "    <tr>\n",
       "      <td>1</td>\n",
       "      <td>Artist Residency @ Vermont Studio Center</td>\n",
       "      <td>Painting</td>\n",
       "      <td>Art</td>\n",
       "      <td>USD</td>\n",
       "      <td>2/20/13</td>\n",
       "      <td>3/22/13</td>\n",
       "      <td>2013</td>\n",
       "      <td>1500</td>\n",
       "      <td>2173.0</td>\n",
       "      <td>21</td>\n",
       "      <td>True</td>\n",
       "      <td>1.448667</td>\n",
       "    </tr>\n",
       "    <tr>\n",
       "      <td>2</td>\n",
       "      <td>ARTSi - Complete Your iPad 2 / New iPad Painti...</td>\n",
       "      <td>Product Design</td>\n",
       "      <td>Design</td>\n",
       "      <td>USD</td>\n",
       "      <td>7/11/12</td>\n",
       "      <td>8/30/12</td>\n",
       "      <td>2012</td>\n",
       "      <td>53000</td>\n",
       "      <td>348.0</td>\n",
       "      <td>11</td>\n",
       "      <td>False</td>\n",
       "      <td>0.006566</td>\n",
       "    </tr>\n",
       "    <tr>\n",
       "      <td>3</td>\n",
       "      <td>Sidereal Calendar Year 413: Kemetic Societies ...</td>\n",
       "      <td>Publishing</td>\n",
       "      <td>Publishing</td>\n",
       "      <td>USD</td>\n",
       "      <td>8/15/13</td>\n",
       "      <td>8/26/13</td>\n",
       "      <td>2013</td>\n",
       "      <td>5500</td>\n",
       "      <td>5965.0</td>\n",
       "      <td>100</td>\n",
       "      <td>True</td>\n",
       "      <td>1.084545</td>\n",
       "    </tr>\n",
       "    <tr>\n",
       "      <td>4</td>\n",
       "      <td>Unseen world of Colorado</td>\n",
       "      <td>Photography</td>\n",
       "      <td>Photography</td>\n",
       "      <td>USD</td>\n",
       "      <td>5/10/14</td>\n",
       "      <td>5/31/14</td>\n",
       "      <td>2014</td>\n",
       "      <td>5000</td>\n",
       "      <td>0.0</td>\n",
       "      <td>0</td>\n",
       "      <td>False</td>\n",
       "      <td>0.000000</td>\n",
       "    </tr>\n",
       "  </tbody>\n",
       "</table>\n",
       "</div>"
      ],
      "text/plain": [
       "                                                name        category  \\\n",
       "0     HELIO: Incredible Brightness, Ultra Lightness.          Design   \n",
       "1           Artist Residency @ Vermont Studio Center        Painting   \n",
       "2  ARTSi - Complete Your iPad 2 / New iPad Painti...  Product Design   \n",
       "3  Sidereal Calendar Year 413: Kemetic Societies ...      Publishing   \n",
       "4                           Unseen world of Colorado     Photography   \n",
       "\n",
       "  main_category currency    start      end  year   goal  pledged  backers  \\\n",
       "0        Design      USD   5/3/17   7/2/17  2017  10000  68033.0     1225   \n",
       "1           Art      USD  2/20/13  3/22/13  2013   1500   2173.0       21   \n",
       "2        Design      USD  7/11/12  8/30/12  2012  53000    348.0       11   \n",
       "3    Publishing      USD  8/15/13  8/26/13  2013   5500   5965.0      100   \n",
       "4   Photography      USD  5/10/14  5/31/14  2014   5000      0.0        0   \n",
       "\n",
       "   success  success_ratio  \n",
       "0     True       6.803300  \n",
       "1     True       1.448667  \n",
       "2    False       0.006566  \n",
       "3     True       1.084545  \n",
       "4    False       0.000000  "
      ]
     },
     "execution_count": 20,
     "metadata": {},
     "output_type": "execute_result"
    }
   ],
   "source": [
    "crowdf['success_ratio'] = (crowdf.pledged/crowdf.goal)\n",
    "crowdf.head()"
   ]
  },
  {
   "cell_type": "code",
   "execution_count": 34,
   "metadata": {},
   "outputs": [],
   "source": [
    "idx = crowdf['success_ratio'].idxmax(axis = 1) # row number of the project with higest success ratio"
   ]
  },
  {
   "cell_type": "code",
   "execution_count": 35,
   "metadata": {},
   "outputs": [
    {
     "data": {
      "text/plain": [
       "name             Photograph Postcard\n",
       "category                 Photography\n",
       "main_category            Photography\n",
       "currency                         USD\n",
       "start                        9/16/11\n",
       "end                         10/16/11\n",
       "year                            2011\n",
       "goal                               5\n",
       "pledged                           60\n",
       "backers                            6\n",
       "success                         True\n",
       "success_ratio                     12\n",
       "Name: 136, dtype: object"
      ]
     },
     "execution_count": 35,
     "metadata": {},
     "output_type": "execute_result"
    }
   ],
   "source": [
    "crowdf.iloc[idx] # pull out information of the project with the highest success ratio in the sample data"
   ]
  },
  {
   "cell_type": "markdown",
   "metadata": {},
   "source": [
    "We chose the project with the highest pledge/goal success ratio (=12) as our favorate project to look at. Here is the description of this project https://www.kickstarter.com/projects/1520157104/photograph-postcard/description . This is a very simple project: A photographer found that people did not enjoy getting mails full of ads so he wanted to send people postcards made from his own photographs and mail it to people. From the consumers' perspective, there were several points that gave the project a high suceess ratio: **1. A large population of potential backers.** 5 USD is a very small amount of money that almost everyone who view the project is able to invest. **2. A good reason to initiate the project.** Receiving useless mails is a common phenomena and people would love to see a change for social good. **3. Professional service.** The postcard pictures were made from photos taken by a professional photographer. People could collect these postcards as a piece of art rather than a random postcard. **4. Founders' dedication.** Although it is a small project, the founder spent time making a short video about it which shows he is serious about the project and his revere to potential backers."
   ]
  }
 ],
 "metadata": {
  "kernelspec": {
   "display_name": "Python 3",
   "language": "python",
   "name": "python3"
  },
  "language_info": {
   "codemirror_mode": {
    "name": "ipython",
    "version": 3
   },
   "file_extension": ".py",
   "mimetype": "text/x-python",
   "name": "python",
   "nbconvert_exporter": "python",
   "pygments_lexer": "ipython3",
   "version": "3.7.4"
  }
 },
 "nbformat": 4,
 "nbformat_minor": 2
}
